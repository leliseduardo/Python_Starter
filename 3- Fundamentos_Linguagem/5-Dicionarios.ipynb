{
 "cells": [
  {
   "cell_type": "markdown",
   "id": "bb39f642-75e9-4978-a9ee-86acf0b3dc81",
   "metadata": {},
   "source": [
    "## Dicionários"
   ]
  },
  {
   "cell_type": "code",
   "execution_count": 1,
   "id": "a5abdb9b-3ed3-4423-beed-ecee868ce23f",
   "metadata": {},
   "outputs": [],
   "source": [
    "dicionario = {\"nome\": \"Eduardo\"}"
   ]
  },
  {
   "cell_type": "code",
   "execution_count": 2,
   "id": "10d468e3-f51d-4a87-8c75-359e3cdeb33e",
   "metadata": {},
   "outputs": [
    {
     "data": {
      "text/plain": [
       "{'nome': 'Eduardo'}"
      ]
     },
     "execution_count": 2,
     "metadata": {},
     "output_type": "execute_result"
    }
   ],
   "source": [
    "dicionario"
   ]
  },
  {
   "cell_type": "code",
   "execution_count": 8,
   "id": "6df007c7-46fd-42dd-9f09-12d72a9a7ce1",
   "metadata": {},
   "outputs": [],
   "source": [
    "dicionario = {\"nome\": \"Eduardo\", \"idade\": 28, \"filhos\": [\"Du\", \"Edu\"]}"
   ]
  },
  {
   "cell_type": "code",
   "execution_count": 9,
   "id": "1c2de911-d90a-46bd-8f0c-0484218256bc",
   "metadata": {},
   "outputs": [
    {
     "data": {
      "text/plain": [
       "{'nome': 'Eduardo', 'idade': 28, 'filhos': ['Du', 'Edu']}"
      ]
     },
     "execution_count": 9,
     "metadata": {},
     "output_type": "execute_result"
    }
   ],
   "source": [
    "dicionario"
   ]
  },
  {
   "cell_type": "code",
   "execution_count": 10,
   "id": "d9fa25dd-4ced-4c88-993a-72a0358d5a99",
   "metadata": {},
   "outputs": [
    {
     "data": {
      "text/plain": [
       "'Eduardo'"
      ]
     },
     "execution_count": 10,
     "metadata": {},
     "output_type": "execute_result"
    }
   ],
   "source": [
    "dicionario[\"nome\"]"
   ]
  },
  {
   "cell_type": "code",
   "execution_count": 11,
   "id": "2a279c49-8593-4fcc-be66-f9c73a739930",
   "metadata": {},
   "outputs": [
    {
     "data": {
      "text/plain": [
       "28"
      ]
     },
     "execution_count": 11,
     "metadata": {},
     "output_type": "execute_result"
    }
   ],
   "source": [
    "dicionario[\"idade\"]"
   ]
  },
  {
   "cell_type": "code",
   "execution_count": 12,
   "id": "bd47f6d3-ea2e-4262-8fa6-f95140e1afe3",
   "metadata": {},
   "outputs": [],
   "source": [
    "dicionario[\"cidade\"] = \"Juiz de Fora\""
   ]
  },
  {
   "cell_type": "code",
   "execution_count": 13,
   "id": "3d095f25-634b-4d39-9386-4fe685478e80",
   "metadata": {},
   "outputs": [
    {
     "data": {
      "text/plain": [
       "{'nome': 'Eduardo',\n",
       " 'idade': 28,\n",
       " 'filhos': ['Du', 'Edu'],\n",
       " 'cidade': 'Juiz de Fora'}"
      ]
     },
     "execution_count": 13,
     "metadata": {},
     "output_type": "execute_result"
    }
   ],
   "source": [
    "dicionario"
   ]
  },
  {
   "cell_type": "code",
   "execution_count": 14,
   "id": "224e0b00-8d88-4be2-8f12-825e49c9fae8",
   "metadata": {},
   "outputs": [],
   "source": [
    "dicionario[\"variavel aleatoria\"] = {\"a\": 1, \"b\": 2}"
   ]
  },
  {
   "cell_type": "code",
   "execution_count": 15,
   "id": "6829ca5f-490f-45e9-836d-8fedc4d03ad7",
   "metadata": {},
   "outputs": [
    {
     "data": {
      "text/plain": [
       "{'nome': 'Eduardo',\n",
       " 'idade': 28,\n",
       " 'filhos': ['Du', 'Edu'],\n",
       " 'cidade': 'Juiz de Fora',\n",
       " 'variavel aleatoria': {'a': 1, 'b': 2}}"
      ]
     },
     "execution_count": 15,
     "metadata": {},
     "output_type": "execute_result"
    }
   ],
   "source": [
    "dicionario"
   ]
  },
  {
   "cell_type": "code",
   "execution_count": 16,
   "id": "a469ae97-a989-4926-a544-a03aef3c9288",
   "metadata": {},
   "outputs": [
    {
     "data": {
      "text/plain": [
       "dict_keys(['nome', 'idade', 'filhos', 'cidade', 'variavel aleatoria'])"
      ]
     },
     "execution_count": 16,
     "metadata": {},
     "output_type": "execute_result"
    }
   ],
   "source": [
    "dicionario.keys()"
   ]
  },
  {
   "cell_type": "code",
   "execution_count": 17,
   "id": "a2ddc6b2-b3c5-4cf4-8ecf-eda5d22d603b",
   "metadata": {},
   "outputs": [
    {
     "data": {
      "text/plain": [
       "dict_values(['Eduardo', 28, ['Du', 'Edu'], 'Juiz de Fora', {'a': 1, 'b': 2}])"
      ]
     },
     "execution_count": 17,
     "metadata": {},
     "output_type": "execute_result"
    }
   ],
   "source": [
    "dicionario.values()"
   ]
  },
  {
   "cell_type": "code",
   "execution_count": 18,
   "id": "bb4724a8-6448-4d75-b6b8-d14855a22a9e",
   "metadata": {},
   "outputs": [
    {
     "data": {
      "text/plain": [
       "dict_items([('nome', 'Eduardo'), ('idade', 28), ('filhos', ['Du', 'Edu']), ('cidade', 'Juiz de Fora'), ('variavel aleatoria', {'a': 1, 'b': 2})])"
      ]
     },
     "execution_count": 18,
     "metadata": {},
     "output_type": "execute_result"
    }
   ],
   "source": [
    "dicionario.items()"
   ]
  },
  {
   "cell_type": "code",
   "execution_count": null,
   "id": "bbb7f6db-1e78-4bc8-830f-0f8ca325482d",
   "metadata": {},
   "outputs": [],
   "source": []
  }
 ],
 "metadata": {
  "kernelspec": {
   "display_name": "Python 3 (ipykernel)",
   "language": "python",
   "name": "python3"
  },
  "language_info": {
   "codemirror_mode": {
    "name": "ipython",
    "version": 3
   },
   "file_extension": ".py",
   "mimetype": "text/x-python",
   "name": "python",
   "nbconvert_exporter": "python",
   "pygments_lexer": "ipython3",
   "version": "3.10.9"
  }
 },
 "nbformat": 4,
 "nbformat_minor": 5
}
