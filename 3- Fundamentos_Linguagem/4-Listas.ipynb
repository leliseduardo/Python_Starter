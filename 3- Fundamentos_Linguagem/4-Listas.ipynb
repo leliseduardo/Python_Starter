{
 "cells": [
  {
   "cell_type": "markdown",
   "id": "71cae0be-9e33-4147-bc57-f3e0141d2767",
   "metadata": {},
   "source": [
    "## Listas"
   ]
  },
  {
   "cell_type": "code",
   "execution_count": 1,
   "id": "5e45a627-838d-4020-846b-6d7adc9eb972",
   "metadata": {},
   "outputs": [],
   "source": [
    "lista = [1, 2, 3] "
   ]
  },
  {
   "cell_type": "code",
   "execution_count": 2,
   "id": "714c97c6-1ec4-4683-8483-fdcfbf23dda7",
   "metadata": {},
   "outputs": [
    {
     "data": {
      "text/plain": [
       "[1, 2, 3]"
      ]
     },
     "execution_count": 2,
     "metadata": {},
     "output_type": "execute_result"
    }
   ],
   "source": [
    "lista"
   ]
  },
  {
   "cell_type": "code",
   "execution_count": 3,
   "id": "3ed7c815-a9af-4b53-acd4-3278f0ee7eef",
   "metadata": {},
   "outputs": [
    {
     "data": {
      "text/plain": [
       "list"
      ]
     },
     "execution_count": 3,
     "metadata": {},
     "output_type": "execute_result"
    }
   ],
   "source": [
    "type(lista)"
   ]
  },
  {
   "cell_type": "code",
   "execution_count": 4,
   "id": "e411235d-9b0a-4a04-943b-e6e6239ff9b3",
   "metadata": {},
   "outputs": [
    {
     "data": {
      "text/plain": [
       "3"
      ]
     },
     "execution_count": 4,
     "metadata": {},
     "output_type": "execute_result"
    }
   ],
   "source": [
    "lista[2]"
   ]
  },
  {
   "cell_type": "code",
   "execution_count": 5,
   "id": "a6994e0d-2212-434e-aa3d-d6ada9c5a8b1",
   "metadata": {},
   "outputs": [
    {
     "data": {
      "text/plain": [
       "[1, 2, 3]"
      ]
     },
     "execution_count": 5,
     "metadata": {},
     "output_type": "execute_result"
    }
   ],
   "source": [
    "lista[:]"
   ]
  },
  {
   "cell_type": "code",
   "execution_count": 6,
   "id": "0738afd3-44bd-446b-9df4-95b5f7a33bf0",
   "metadata": {},
   "outputs": [
    {
     "data": {
      "text/plain": [
       "[1]"
      ]
     },
     "execution_count": 6,
     "metadata": {},
     "output_type": "execute_result"
    }
   ],
   "source": [
    "lista[0:1]"
   ]
  },
  {
   "cell_type": "code",
   "execution_count": 7,
   "id": "7ac8c8b8-a985-4615-92b7-677cd058c231",
   "metadata": {},
   "outputs": [
    {
     "data": {
      "text/plain": [
       "[1, 2]"
      ]
     },
     "execution_count": 7,
     "metadata": {},
     "output_type": "execute_result"
    }
   ],
   "source": [
    "lista[0:2]"
   ]
  },
  {
   "cell_type": "code",
   "execution_count": 8,
   "id": "9f6e4c4a-0109-483d-871b-f1b88efd4e71",
   "metadata": {},
   "outputs": [],
   "source": [
    "lista2 = [1, 2, \"hello\", [1, 2, 3]]"
   ]
  },
  {
   "cell_type": "code",
   "execution_count": 9,
   "id": "60f2826e-af75-4f27-8a47-75d2f52c30f5",
   "metadata": {},
   "outputs": [
    {
     "data": {
      "text/plain": [
       "[1, 2, 'hello', [1, 2, 3]]"
      ]
     },
     "execution_count": 9,
     "metadata": {},
     "output_type": "execute_result"
    }
   ],
   "source": [
    "lista2"
   ]
  },
  {
   "cell_type": "code",
   "execution_count": 10,
   "id": "21a43a68-eb9b-408c-89f4-9d285c640a28",
   "metadata": {},
   "outputs": [
    {
     "data": {
      "text/plain": [
       "[2, 3]"
      ]
     },
     "execution_count": 10,
     "metadata": {},
     "output_type": "execute_result"
    }
   ],
   "source": [
    "lista2[3][1:]"
   ]
  },
  {
   "cell_type": "code",
   "execution_count": 11,
   "id": "7101b13a-2007-4405-86cb-4ea96726d02f",
   "metadata": {},
   "outputs": [
    {
     "data": {
      "text/plain": [
       "'HELLO'"
      ]
     },
     "execution_count": 11,
     "metadata": {},
     "output_type": "execute_result"
    }
   ],
   "source": [
    "lista2[2].upper()"
   ]
  },
  {
   "cell_type": "code",
   "execution_count": 12,
   "id": "acf2b56b-cf3c-4b5d-88e5-47daead1fa21",
   "metadata": {},
   "outputs": [
    {
     "data": {
      "text/plain": [
       "[1, 2, 3, 2]"
      ]
     },
     "execution_count": 12,
     "metadata": {},
     "output_type": "execute_result"
    }
   ],
   "source": [
    "lista + [2]"
   ]
  },
  {
   "cell_type": "code",
   "execution_count": 13,
   "id": "0458e747-81fe-4317-b576-be67b9808943",
   "metadata": {},
   "outputs": [
    {
     "data": {
      "text/plain": [
       "[1, 2, 3, 1, 2, 3]"
      ]
     },
     "execution_count": 13,
     "metadata": {},
     "output_type": "execute_result"
    }
   ],
   "source": [
    "lista * 2"
   ]
  },
  {
   "cell_type": "code",
   "execution_count": 14,
   "id": "f7c64cf0-8c4b-4f1e-af44-2fb340e226a0",
   "metadata": {},
   "outputs": [
    {
     "data": {
      "text/plain": [
       "[1, 2, 3]"
      ]
     },
     "execution_count": 14,
     "metadata": {},
     "output_type": "execute_result"
    }
   ],
   "source": [
    "lista"
   ]
  },
  {
   "cell_type": "code",
   "execution_count": 15,
   "id": "572396f1-6f7b-434c-9437-820cc76ad897",
   "metadata": {},
   "outputs": [],
   "source": [
    "lista.append(4)"
   ]
  },
  {
   "cell_type": "code",
   "execution_count": 16,
   "id": "3a8453b4-4272-4db8-9006-78439c6c682e",
   "metadata": {},
   "outputs": [
    {
     "data": {
      "text/plain": [
       "[1, 2, 3, 4]"
      ]
     },
     "execution_count": 16,
     "metadata": {},
     "output_type": "execute_result"
    }
   ],
   "source": [
    "lista"
   ]
  },
  {
   "cell_type": "code",
   "execution_count": 17,
   "id": "761e7e00-ceac-4a29-81bf-cd8fa47dd2a0",
   "metadata": {},
   "outputs": [
    {
     "data": {
      "text/plain": [
       "4"
      ]
     },
     "execution_count": 17,
     "metadata": {},
     "output_type": "execute_result"
    }
   ],
   "source": [
    "lista.pop()"
   ]
  },
  {
   "cell_type": "code",
   "execution_count": 18,
   "id": "74165f8f-50bd-4b2b-b930-9ab265933928",
   "metadata": {},
   "outputs": [
    {
     "data": {
      "text/plain": [
       "[1, 2, 3]"
      ]
     },
     "execution_count": 18,
     "metadata": {},
     "output_type": "execute_result"
    }
   ],
   "source": [
    "lista"
   ]
  },
  {
   "cell_type": "code",
   "execution_count": 19,
   "id": "70fa7b42-7668-4230-8f29-13c95096bb06",
   "metadata": {},
   "outputs": [],
   "source": [
    "lista3 = ['a', 'b', 'c', 'd']"
   ]
  },
  {
   "cell_type": "code",
   "execution_count": 20,
   "id": "93d66d63-79ff-4f4a-b6cb-101465c00f95",
   "metadata": {},
   "outputs": [],
   "source": [
    "lista3.reverse()"
   ]
  },
  {
   "cell_type": "code",
   "execution_count": 21,
   "id": "325e3221-b8fc-49b5-bf6e-6548fb0483ba",
   "metadata": {},
   "outputs": [
    {
     "data": {
      "text/plain": [
       "['d', 'c', 'b', 'a']"
      ]
     },
     "execution_count": 21,
     "metadata": {},
     "output_type": "execute_result"
    }
   ],
   "source": [
    "lista3"
   ]
  },
  {
   "cell_type": "code",
   "execution_count": 22,
   "id": "fd741675-7f8b-474b-8ee9-1f1822724509",
   "metadata": {},
   "outputs": [],
   "source": [
    "lista3.sort()"
   ]
  },
  {
   "cell_type": "code",
   "execution_count": 23,
   "id": "506dff49-b200-42f9-a6e1-35fb811df7e0",
   "metadata": {},
   "outputs": [
    {
     "data": {
      "text/plain": [
       "['a', 'b', 'c', 'd']"
      ]
     },
     "execution_count": 23,
     "metadata": {},
     "output_type": "execute_result"
    }
   ],
   "source": [
    "lista3"
   ]
  },
  {
   "cell_type": "code",
   "execution_count": 24,
   "id": "9aee2ef2-5dd3-4241-b160-ae106afd571f",
   "metadata": {},
   "outputs": [],
   "source": [
    "l1 = [1, 2, 3]\n",
    "l2 = [4, 5, 6]\n",
    "l3 = [7, 8, 9]"
   ]
  },
  {
   "cell_type": "code",
   "execution_count": 25,
   "id": "dc76565a-1825-4611-8549-ab0f3ac0fd11",
   "metadata": {},
   "outputs": [],
   "source": [
    "l4 = [l1, l2, l3]"
   ]
  },
  {
   "cell_type": "code",
   "execution_count": 26,
   "id": "ad57faa6-e7e6-44ad-a17d-73ff1f2dc3d0",
   "metadata": {},
   "outputs": [
    {
     "data": {
      "text/plain": [
       "[[1, 2, 3], [4, 5, 6], [7, 8, 9]]"
      ]
     },
     "execution_count": 26,
     "metadata": {},
     "output_type": "execute_result"
    }
   ],
   "source": [
    "l4"
   ]
  },
  {
   "cell_type": "code",
   "execution_count": 27,
   "id": "e56482ee-12fa-460f-b92d-356cc85c97d0",
   "metadata": {},
   "outputs": [
    {
     "data": {
      "text/plain": [
       "5"
      ]
     },
     "execution_count": 27,
     "metadata": {},
     "output_type": "execute_result"
    }
   ],
   "source": [
    "l4[1][1]"
   ]
  }
 ],
 "metadata": {
  "kernelspec": {
   "display_name": "Python 3 (ipykernel)",
   "language": "python",
   "name": "python3"
  },
  "language_info": {
   "codemirror_mode": {
    "name": "ipython",
    "version": 3
   },
   "file_extension": ".py",
   "mimetype": "text/x-python",
   "name": "python",
   "nbconvert_exporter": "python",
   "pygments_lexer": "ipython3",
   "version": "3.10.9"
  }
 },
 "nbformat": 4,
 "nbformat_minor": 5
}
