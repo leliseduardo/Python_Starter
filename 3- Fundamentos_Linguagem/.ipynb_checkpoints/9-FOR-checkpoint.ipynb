{
 "cells": [
  {
   "cell_type": "markdown",
   "id": "0ae6b8e1-a022-4ff1-bebb-4892aca081c6",
   "metadata": {},
   "source": [
    "## FOR"
   ]
  },
  {
   "cell_type": "code",
   "execution_count": 2,
   "id": "3bf45671-a6ac-4f7d-9678-5e4610f4d8f3",
   "metadata": {},
   "outputs": [
    {
     "data": {
      "text/plain": [
       "range(0, 10)"
      ]
     },
     "execution_count": 2,
     "metadata": {},
     "output_type": "execute_result"
    }
   ],
   "source": [
    "range(0, 10, 1)"
   ]
  },
  {
   "cell_type": "code",
   "execution_count": 3,
   "id": "37f28eaf-626d-45a7-b755-6c95df176369",
   "metadata": {},
   "outputs": [
    {
     "data": {
      "text/plain": [
       "[1, 2, 3, 4, 5, 6, 7, 8, 9]"
      ]
     },
     "execution_count": 3,
     "metadata": {},
     "output_type": "execute_result"
    }
   ],
   "source": [
    "list(range(1, 10, 1))"
   ]
  },
  {
   "cell_type": "code",
   "execution_count": 4,
   "id": "86a02806-6169-4471-b7c3-1ecf052513e8",
   "metadata": {},
   "outputs": [
    {
     "data": {
      "text/plain": [
       "[0, 1, 2, 3, 4, 5, 6, 7, 8, 9]"
      ]
     },
     "execution_count": 4,
     "metadata": {},
     "output_type": "execute_result"
    }
   ],
   "source": [
    "list(range(10))"
   ]
  },
  {
   "cell_type": "code",
   "execution_count": 6,
   "id": "1c211373-8ac8-4ed6-b24a-1fe82ca09638",
   "metadata": {},
   "outputs": [
    {
     "name": "stdout",
     "output_type": "stream",
     "text": [
      "0\n",
      "1\n",
      "2\n",
      "3\n",
      "4\n",
      "5\n",
      "6\n",
      "7\n",
      "8\n",
      "9\n"
     ]
    }
   ],
   "source": [
    "for i in range(10):\n",
    "    print(i)"
   ]
  },
  {
   "cell_type": "code",
   "execution_count": 9,
   "id": "fd3ec530-1cdd-49da-9bf9-7a8e52aae6ca",
   "metadata": {},
   "outputs": [],
   "source": [
    "l1 = ['a', 'b', 'c']"
   ]
  },
  {
   "cell_type": "code",
   "execution_count": 10,
   "id": "a86a752d-6a9e-4e0c-8753-85d66b7a6cb3",
   "metadata": {},
   "outputs": [
    {
     "name": "stdout",
     "output_type": "stream",
     "text": [
      "a\n",
      "b\n",
      "c\n"
     ]
    }
   ],
   "source": [
    "for i in l1:\n",
    "    print(i)"
   ]
  },
  {
   "cell_type": "code",
   "execution_count": null,
   "id": "1a52e306-b8f3-4dae-a62f-be71297c0b1d",
   "metadata": {},
   "outputs": [],
   "source": []
  }
 ],
 "metadata": {
  "kernelspec": {
   "display_name": "Python 3 (ipykernel)",
   "language": "python",
   "name": "python3"
  },
  "language_info": {
   "codemirror_mode": {
    "name": "ipython",
    "version": 3
   },
   "file_extension": ".py",
   "mimetype": "text/x-python",
   "name": "python",
   "nbconvert_exporter": "python",
   "pygments_lexer": "ipython3",
   "version": "3.10.9"
  }
 },
 "nbformat": 4,
 "nbformat_minor": 5
}
