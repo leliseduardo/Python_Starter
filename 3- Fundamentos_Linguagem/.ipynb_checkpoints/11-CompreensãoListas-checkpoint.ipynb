{
 "cells": [
  {
   "cell_type": "markdown",
   "id": "c695db2c-22c4-4316-a916-2c1bd7efd0f2",
   "metadata": {},
   "source": [
    "## Compreensão em Listas"
   ]
  },
  {
   "cell_type": "code",
   "execution_count": 1,
   "id": "e2477fe1-0f92-483f-aac8-a8488e64dd44",
   "metadata": {},
   "outputs": [],
   "source": [
    "lista = \"string\""
   ]
  },
  {
   "cell_type": "code",
   "execution_count": 4,
   "id": "4111c48f-6ffa-495c-bee7-433b253b5fc4",
   "metadata": {},
   "outputs": [
    {
     "data": {
      "text/plain": [
       "['s', 't', 'r', 'i', 'n', 'g']"
      ]
     },
     "execution_count": 4,
     "metadata": {},
     "output_type": "execute_result"
    }
   ],
   "source": [
    "lista_words = []\n",
    "for w in lista:\n",
    "    lista_words.append(w)\n",
    "    \n",
    "lista_words"
   ]
  },
  {
   "cell_type": "code",
   "execution_count": 7,
   "id": "2f729b0f-329d-4789-bf52-b5625b4dad4a",
   "metadata": {},
   "outputs": [
    {
     "data": {
      "text/plain": [
       "['s', 't', 'r', 'i', 'n', 'g']"
      ]
     },
     "execution_count": 7,
     "metadata": {},
     "output_type": "execute_result"
    }
   ],
   "source": [
    "lista_words2 = [w for w in lista]\n",
    "\n",
    "lista_words2"
   ]
  }
 ],
 "metadata": {
  "kernelspec": {
   "display_name": "Python 3 (ipykernel)",
   "language": "python",
   "name": "python3"
  },
  "language_info": {
   "codemirror_mode": {
    "name": "ipython",
    "version": 3
   },
   "file_extension": ".py",
   "mimetype": "text/x-python",
   "name": "python",
   "nbconvert_exporter": "python",
   "pygments_lexer": "ipython3",
   "version": "3.10.9"
  }
 },
 "nbformat": 4,
 "nbformat_minor": 5
}
