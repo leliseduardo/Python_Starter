{
 "cells": [
  {
   "cell_type": "markdown",
   "id": "0f7a7059-76fe-4d53-a3d3-e01c881e9a37",
   "metadata": {},
   "source": [
    "## Lambda"
   ]
  },
  {
   "cell_type": "code",
   "execution_count": 1,
   "id": "64a698c0-75a3-497b-a8a1-ccd85690f898",
   "metadata": {},
   "outputs": [
    {
     "data": {
      "text/plain": [
       "4"
      ]
     },
     "execution_count": 1,
     "metadata": {},
     "output_type": "execute_result"
    }
   ],
   "source": [
    "def elevaQuadrado(x):\n",
    "    return x ** 2\n",
    "\n",
    "elevaQuadrado(2)"
   ]
  },
  {
   "cell_type": "code",
   "execution_count": 2,
   "id": "3f35eb99-27c9-47b1-b22b-063c2b845f9a",
   "metadata": {},
   "outputs": [
    {
     "data": {
      "text/plain": [
       "4"
      ]
     },
     "execution_count": 2,
     "metadata": {},
     "output_type": "execute_result"
    }
   ],
   "source": [
    "a = lambda x : x ** 2\n",
    "\n",
    "a(2)"
   ]
  },
  {
   "cell_type": "code",
   "execution_count": null,
   "id": "54728e3d-266d-438b-9c92-888d5ed083c9",
   "metadata": {},
   "outputs": [],
   "source": []
  }
 ],
 "metadata": {
  "kernelspec": {
   "display_name": "Python 3 (ipykernel)",
   "language": "python",
   "name": "python3"
  },
  "language_info": {
   "codemirror_mode": {
    "name": "ipython",
    "version": 3
   },
   "file_extension": ".py",
   "mimetype": "text/x-python",
   "name": "python",
   "nbconvert_exporter": "python",
   "pygments_lexer": "ipython3",
   "version": "3.10.9"
  }
 },
 "nbformat": 4,
 "nbformat_minor": 5
}
