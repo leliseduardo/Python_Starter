{
 "cells": [
  {
   "cell_type": "markdown",
   "id": "bcde1062-d915-45f9-a834-e464b29937aa",
   "metadata": {},
   "source": [
    "## Strings"
   ]
  },
  {
   "cell_type": "code",
   "execution_count": 1,
   "id": "505172a0-a66e-4488-b443-df00a1a09e86",
   "metadata": {},
   "outputs": [],
   "source": [
    "minha_string = \"Hello\""
   ]
  },
  {
   "cell_type": "code",
   "execution_count": 2,
   "id": "2b79dfce-411b-49fe-890f-030d69e5b36c",
   "metadata": {},
   "outputs": [
    {
     "data": {
      "text/plain": [
       "'Hello'"
      ]
     },
     "execution_count": 2,
     "metadata": {},
     "output_type": "execute_result"
    }
   ],
   "source": [
    "minha_string"
   ]
  },
  {
   "cell_type": "code",
   "execution_count": 3,
   "id": "b24c1e05-e502-45cf-adc5-f8b89803761e",
   "metadata": {},
   "outputs": [],
   "source": [
    "outra_string = 'World'"
   ]
  },
  {
   "cell_type": "code",
   "execution_count": 4,
   "id": "1203c870-9a2b-4c26-9f54-cfd1f7298bd2",
   "metadata": {},
   "outputs": [
    {
     "data": {
      "text/plain": [
       "'World'"
      ]
     },
     "execution_count": 4,
     "metadata": {},
     "output_type": "execute_result"
    }
   ],
   "source": [
    "outra_string"
   ]
  },
  {
   "cell_type": "code",
   "execution_count": 5,
   "id": "76b9c1ca-baa1-4edd-847b-c1386d7b52f1",
   "metadata": {},
   "outputs": [],
   "source": [
    "exemplo_aspas = 'Usando as \"duas\" aspas'"
   ]
  },
  {
   "cell_type": "code",
   "execution_count": 6,
   "id": "3ca1d062-4bf3-4cc2-88cf-3f86dcae500a",
   "metadata": {},
   "outputs": [
    {
     "data": {
      "text/plain": [
       "'Usando as \"duas\" aspas'"
      ]
     },
     "execution_count": 6,
     "metadata": {},
     "output_type": "execute_result"
    }
   ],
   "source": [
    "exemplo_aspas"
   ]
  },
  {
   "cell_type": "code",
   "execution_count": 7,
   "id": "01e2af30-2c7a-46bb-a4dd-e708b9b4871b",
   "metadata": {},
   "outputs": [],
   "source": [
    "outro_exemplo = \"Usando as 'duas' aspas diferente\""
   ]
  },
  {
   "cell_type": "code",
   "execution_count": 8,
   "id": "e13333a7-964b-4ab7-a54f-1897183076ab",
   "metadata": {},
   "outputs": [
    {
     "data": {
      "text/plain": [
       "\"Usando as 'duas' aspas diferente\""
      ]
     },
     "execution_count": 8,
     "metadata": {},
     "output_type": "execute_result"
    }
   ],
   "source": [
    "outro_exemplo"
   ]
  },
  {
   "cell_type": "code",
   "execution_count": 9,
   "id": "78d789e2-154b-4bc4-ad91-2af6128ea0cc",
   "metadata": {},
   "outputs": [
    {
     "name": "stdout",
     "output_type": "stream",
     "text": [
      "Usando as \"duas\" aspas\n",
      "Usando as 'duas' aspas diferente\n"
     ]
    }
   ],
   "source": [
    "print(exemplo_aspas)\n",
    "print(outro_exemplo)"
   ]
  },
  {
   "cell_type": "code",
   "execution_count": 10,
   "id": "0a5cab6e-f801-4754-8c29-ba23986215d1",
   "metadata": {},
   "outputs": [
    {
     "data": {
      "text/plain": [
       "5"
      ]
     },
     "execution_count": 10,
     "metadata": {},
     "output_type": "execute_result"
    }
   ],
   "source": [
    "len(minha_string)"
   ]
  },
  {
   "cell_type": "code",
   "execution_count": 11,
   "id": "ceca485a-bde3-4843-a934-56dacd88c19d",
   "metadata": {},
   "outputs": [
    {
     "name": "stdout",
     "output_type": "stream",
     "text": [
      "Hello World\n"
     ]
    }
   ],
   "source": [
    "teste_string = minha_string + \" \" + outra_string\n",
    "print(teste_string)"
   ]
  },
  {
   "cell_type": "code",
   "execution_count": null,
   "id": "ef5d2d5d-72ac-4cd9-8847-72285c96d23e",
   "metadata": {},
   "outputs": [],
   "source": []
  }
 ],
 "metadata": {
  "kernelspec": {
   "display_name": "Python 3 (ipykernel)",
   "language": "python",
   "name": "python3"
  },
  "language_info": {
   "codemirror_mode": {
    "name": "ipython",
    "version": 3
   },
   "file_extension": ".py",
   "mimetype": "text/x-python",
   "name": "python",
   "nbconvert_exporter": "python",
   "pygments_lexer": "ipython3",
   "version": "3.10.9"
  }
 },
 "nbformat": 4,
 "nbformat_minor": 5
}
