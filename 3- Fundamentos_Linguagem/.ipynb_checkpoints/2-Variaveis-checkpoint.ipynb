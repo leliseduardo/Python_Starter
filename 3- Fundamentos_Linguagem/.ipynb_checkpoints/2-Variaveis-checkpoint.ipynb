{
 "cells": [
  {
   "cell_type": "markdown",
   "id": "e36a260b-47ea-4ce1-8f0f-ba4651428f08",
   "metadata": {},
   "source": [
    "## Variáveis"
   ]
  },
  {
   "cell_type": "code",
   "execution_count": 1,
   "id": "14eaf2db-b592-400a-bbe2-b030159af09c",
   "metadata": {},
   "outputs": [],
   "source": [
    "a = 5"
   ]
  },
  {
   "cell_type": "code",
   "execution_count": 2,
   "id": "4703a7cb-2940-479e-a940-8644f0f8ab11",
   "metadata": {},
   "outputs": [
    {
     "data": {
      "text/plain": [
       "5"
      ]
     },
     "execution_count": 2,
     "metadata": {},
     "output_type": "execute_result"
    }
   ],
   "source": [
    "a"
   ]
  },
  {
   "cell_type": "code",
   "execution_count": 3,
   "id": "5873cf24-8fb5-4c97-8fb3-c0d682cb48a7",
   "metadata": {},
   "outputs": [],
   "source": [
    "variavel_um = 1"
   ]
  },
  {
   "cell_type": "code",
   "execution_count": 4,
   "id": "ef763814-0c77-4ba9-a5a7-db36480d8f17",
   "metadata": {},
   "outputs": [
    {
     "data": {
      "text/plain": [
       "1"
      ]
     },
     "execution_count": 4,
     "metadata": {},
     "output_type": "execute_result"
    }
   ],
   "source": [
    "variavel_um"
   ]
  },
  {
   "cell_type": "code",
   "execution_count": 5,
   "id": "da680029-a85c-4989-929a-bc7da835cdac",
   "metadata": {},
   "outputs": [
    {
     "name": "stdout",
     "output_type": "stream",
     "text": [
      "5\n"
     ]
    }
   ],
   "source": [
    "aux = variavel_um * a\n",
    "print(aux)"
   ]
  },
  {
   "cell_type": "code",
   "execution_count": 6,
   "id": "716b349d-47a1-468d-9795-91f7c7b88a3b",
   "metadata": {},
   "outputs": [],
   "source": [
    "a = a ** 2"
   ]
  },
  {
   "cell_type": "code",
   "execution_count": 7,
   "id": "43f27d92-da46-4b8b-af11-7d31057b06be",
   "metadata": {},
   "outputs": [
    {
     "data": {
      "text/plain": [
       "25"
      ]
     },
     "execution_count": 7,
     "metadata": {},
     "output_type": "execute_result"
    }
   ],
   "source": [
    "a"
   ]
  }
 ],
 "metadata": {
  "kernelspec": {
   "display_name": "Python 3 (ipykernel)",
   "language": "python",
   "name": "python3"
  },
  "language_info": {
   "codemirror_mode": {
    "name": "ipython",
    "version": 3
   },
   "file_extension": ".py",
   "mimetype": "text/x-python",
   "name": "python",
   "nbconvert_exporter": "python",
   "pygments_lexer": "ipython3",
   "version": "3.10.9"
  }
 },
 "nbformat": 4,
 "nbformat_minor": 5
}
