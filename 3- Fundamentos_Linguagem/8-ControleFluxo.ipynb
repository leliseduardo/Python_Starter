{
 "cells": [
  {
   "cell_type": "markdown",
   "id": "ad5e4c66-ea9a-40a2-a8cf-8bfee3093bd7",
   "metadata": {},
   "source": [
    "## IF ELIF ELSE"
   ]
  },
  {
   "cell_type": "code",
   "execution_count": 4,
   "id": "58284138-6fc6-4401-b6ba-c9fb44c4ab39",
   "metadata": {},
   "outputs": [
    {
     "name": "stdout",
     "output_type": "stream",
     "text": [
      "Está muito frio!\n",
      "Vai vestir uma blusa rapaix\n"
     ]
    }
   ],
   "source": [
    "temp = -10\n",
    "\n",
    "if temp > 30:\n",
    "    print(\"Está quente\")\n",
    "    print(\"No Python não existe chaves no if\")\n",
    "elif temp < 0:\n",
    "    print(\"Está muito frio!\")\n",
    "    print(\"Vai vestir uma blusa rapaix\")\n",
    "else:\n",
    "    print(\"Tá suave!\")"
   ]
  },
  {
   "cell_type": "code",
   "execution_count": null,
   "id": "0b9f2878-bedf-4323-acc6-5281cad2b7bc",
   "metadata": {},
   "outputs": [],
   "source": []
  }
 ],
 "metadata": {
  "kernelspec": {
   "display_name": "Python 3 (ipykernel)",
   "language": "python",
   "name": "python3"
  },
  "language_info": {
   "codemirror_mode": {
    "name": "ipython",
    "version": 3
   },
   "file_extension": ".py",
   "mimetype": "text/x-python",
   "name": "python",
   "nbconvert_exporter": "python",
   "pygments_lexer": "ipython3",
   "version": "3.10.9"
  }
 },
 "nbformat": 4,
 "nbformat_minor": 5
}
