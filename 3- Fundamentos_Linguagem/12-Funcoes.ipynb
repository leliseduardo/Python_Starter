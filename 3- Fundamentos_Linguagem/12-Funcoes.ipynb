{
 "cells": [
  {
   "cell_type": "markdown",
   "id": "811ea53a-bc90-4e2e-bbad-b510fdaa0ede",
   "metadata": {},
   "source": [
    "## Funções"
   ]
  },
  {
   "cell_type": "code",
   "execution_count": 1,
   "id": "2aadc5fa-d3ab-46e2-a745-0b7cf73208bc",
   "metadata": {},
   "outputs": [],
   "source": [
    "def diga_ola():\n",
    "    print(\"Ola\")"
   ]
  },
  {
   "cell_type": "code",
   "execution_count": 2,
   "id": "e7144bbb-d952-4fff-956b-e3b4b4e6a507",
   "metadata": {},
   "outputs": [
    {
     "name": "stdout",
     "output_type": "stream",
     "text": [
      "Ola\n"
     ]
    }
   ],
   "source": [
    "diga_ola()"
   ]
  },
  {
   "cell_type": "code",
   "execution_count": 3,
   "id": "2120ecca-67c5-44aa-81e0-6f0846fb3074",
   "metadata": {},
   "outputs": [],
   "source": [
    "def diga_ola2(nome):\n",
    "    print(\"Ola {}\".format(nome))"
   ]
  },
  {
   "cell_type": "code",
   "execution_count": 5,
   "id": "ab7f0e60-6e98-431e-863b-965fa29c8f90",
   "metadata": {},
   "outputs": [
    {
     "name": "stdout",
     "output_type": "stream",
     "text": [
      "Ola Eduardo\n"
     ]
    }
   ],
   "source": [
    "diga_ola2(\"Eduardo\")"
   ]
  },
  {
   "cell_type": "code",
   "execution_count": 10,
   "id": "45d11f74-35dd-4d34-a388-bcb08c9e0369",
   "metadata": {},
   "outputs": [],
   "source": [
    "def diga_ola3(nome):\n",
    "    a = 28\n",
    "    print(\"Ola {}\".format(nome))\n",
    "    return \"Idade: \" + str(a)"
   ]
  },
  {
   "cell_type": "code",
   "execution_count": 11,
   "id": "b845217f-a3c1-4548-82d3-bde85a420b7e",
   "metadata": {},
   "outputs": [
    {
     "name": "stdout",
     "output_type": "stream",
     "text": [
      "Ola Eduardo\n"
     ]
    },
    {
     "data": {
      "text/plain": [
       "'Idade: 28'"
      ]
     },
     "execution_count": 11,
     "metadata": {},
     "output_type": "execute_result"
    }
   ],
   "source": [
    "diga_ola3(\"Eduardo\")"
   ]
  },
  {
   "cell_type": "code",
   "execution_count": null,
   "id": "d23fedb4-b7cf-461a-ba24-0961cceb8da9",
   "metadata": {},
   "outputs": [],
   "source": []
  }
 ],
 "metadata": {
  "kernelspec": {
   "display_name": "Python 3 (ipykernel)",
   "language": "python",
   "name": "python3"
  },
  "language_info": {
   "codemirror_mode": {
    "name": "ipython",
    "version": 3
   },
   "file_extension": ".py",
   "mimetype": "text/x-python",
   "name": "python",
   "nbconvert_exporter": "python",
   "pygments_lexer": "ipython3",
   "version": "3.10.9"
  }
 },
 "nbformat": 4,
 "nbformat_minor": 5
}
